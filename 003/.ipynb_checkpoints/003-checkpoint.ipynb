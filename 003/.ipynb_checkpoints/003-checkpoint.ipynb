{
 "cells": [
  {
   "cell_type": "markdown",
   "id": "520a81a4",
   "metadata": {},
   "source": [
    "Написать код, который вычисляет сумму всех чисел, удовлетворяющих следующие условия:\n",
    "\n",
    "* положительные целые числа от 1 до 1_000_000_002 (один миллиард два) включительно\n",
    "* которые нацело (без остатка) делятся на 3 (пример: 3, 6, 9, ...)\n",
    "* и которые не заканчиваются на 4 и 7 (пример заканчивающихся на 4 и 7: 24, 27, 54, 57 ...)"
   ]
  },
  {
   "cell_type": "code",
   "execution_count": 52,
   "id": "d81203a1",
   "metadata": {},
   "outputs": [
    {
     "name": "stdout",
     "output_type": "stream",
     "text": [
      "133333334466666672\n"
     ]
    }
   ],
   "source": [
    "print(sum(filter(lambda x: (x%10!=4) and (x%10!=7), range(3, 1_000_000_003, 3))))"
   ]
  },
  {
   "cell_type": "markdown",
   "id": "a2102e8a",
   "metadata": {},
   "source": [
    "На вход поступает текстовый файл из 3-х тысяч строк\n",
    "\n",
    "Формат файла:\n",
    "    \"арифметическая операция\"    \"целое число #1\"    \"целое число #2\"\n",
    "Разделитель - 4 пробела\n",
    "\n",
    "\n",
    "Нужно подготовить текстовый файл из 1 строки.\n",
    "Строка содержит набор из 3-х тысяч чисел, разделенных запятой. \n",
    "После последнего числа запятая не ставится.\n",
    "каждое число - результат операции: \n",
    "    \"результирующее целое число\" = \"целое число #1\" применить \"арифметическая операция\" \"целое число #2\"\n",
    "    \n",
    "Допустимые операции:\n",
    "\n",
    "* '+' (сложение)\n",
    "* '-' (вычитание)\n",
    "* '*' (умножение)\n",
    "* '//' (целочисленное деление) (для этой операции подаются только положительные числа)\n",
    "* '%' (остаток от деления) (для этой операции подаются только положительные числа)\n",
    "* '**' (возведение в степень) (для этой операции подаются только положительные числа)"
   ]
  },
  {
   "cell_type": "code",
   "execution_count": 145,
   "id": "3e9908b5",
   "metadata": {},
   "outputs": [],
   "source": []
  },
  {
   "cell_type": "code",
   "execution_count": 155,
   "id": "f4279657",
   "metadata": {},
   "outputs": [
    {
     "data": {
      "text/plain": [
       "49784"
      ]
     },
     "execution_count": 155,
     "metadata": {},
     "output_type": "execute_result"
    }
   ],
   "source": [
    "inpt = open('./txts/input_file.txt', mode='r')\n",
    "\n",
    "operators = {\n",
    "    '+': lambda x, y: x+y,\n",
    "    '**': lambda x, y: x**y,\n",
    "    '-': lambda x, y: x-y,\n",
    "    '*': lambda x, y: x*y,\n",
    "    '//': lambda x, y: x//y,\n",
    "    '%': lambda x, y: x%y\n",
    "}\n",
    "\n",
    "S = '    ' # spliter\n",
    "\n",
    "calculated_list = [operators[x.split(S)[0]](int(x.split(S)[1]), int(x.split(S)[2].rstrip('\\n'))) for x in inpt]\n",
    "calculated_string = ','.join(map(str, calculated_list))\n",
    "\n",
    "try:\n",
    "    outpt = open('./txts/output.txt', mode='x')\n",
    "except:\n",
    "    outpt = open('./txts/output.txt', mode='w')\n",
    "outpt.write(calculated_string)"
   ]
  },
  {
   "cell_type": "code",
   "execution_count": 157,
   "id": "9b7b80c2",
   "metadata": {},
   "outputs": [
    {
     "data": {
      "text/plain": [
       "'8'"
      ]
     },
     "execution_count": 157,
     "metadata": {},
     "output_type": "execute_result"
    }
   ],
   "source": [
    "open('./txts/output.txt').read(1)"
   ]
  },
  {
   "cell_type": "code",
   "execution_count": 112,
   "id": "c45c72ad",
   "metadata": {},
   "outputs": [
    {
     "data": {
      "text/plain": [
       "'7196'"
      ]
     },
     "execution_count": 112,
     "metadata": {},
     "output_type": "execute_result"
    }
   ],
   "source": [
    "l[0].split('    ')[2].rstrip('\\n')"
   ]
  },
  {
   "cell_type": "code",
   "execution_count": null,
   "id": "4b27b8b0",
   "metadata": {},
   "outputs": [],
   "source": [
    "''.rstrip()"
   ]
  }
 ],
 "metadata": {
  "kernelspec": {
   "display_name": "Python 3",
   "language": "python",
   "name": "python3"
  },
  "language_info": {
   "codemirror_mode": {
    "name": "ipython",
    "version": 3
   },
   "file_extension": ".py",
   "mimetype": "text/x-python",
   "name": "python",
   "nbconvert_exporter": "python",
   "pygments_lexer": "ipython3",
   "version": "3.8.8"
  }
 },
 "nbformat": 4,
 "nbformat_minor": 5
}
