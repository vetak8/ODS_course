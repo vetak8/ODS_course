{
 "cells": [
  {
   "cell_type": "code",
   "execution_count": 122,
   "id": "2b9fe2da",
   "metadata": {},
   "outputs": [],
   "source": [
    "import numpy as np\n",
    "import pandas as pd\n",
    "import pickle\n",
    "import matplotlib.pyplot as plt\n",
    "from sklearn.feature_extraction.text import CountVectorizer\n",
    "from sklearn.linear_model import LogisticRegressionCV, LogisticRegression\n",
    "from sklearn.model_selection import TimeSeriesSplit, cross_val_score, GridSearchCV, train_test_split\n",
    "from sklearn.metrics import roc_auc_score\n",
    "from scipy.sparse import hstack\n",
    "from sklearn.preprocessing import StandardScaler\n",
    "%matplotlib inline\n"
   ]
  },
  {
   "cell_type": "code",
   "execution_count": null,
   "id": "2c8085de",
   "metadata": {},
   "outputs": [],
   "source": []
  },
  {
   "cell_type": "code",
   "execution_count": 2,
   "id": "81bd5193",
   "metadata": {},
   "outputs": [],
   "source": [
    "sites = ['site' + str(i) for i in range(1,11)]\n",
    "times = ['time' + str(i) for i in range(1, 11)]\n",
    "\n",
    "df_train = pd.read_csv('D:/alice/train.csv', index_col='session_id', parse_dates=times)\n",
    "df_test = pd.read_csv('D:/alice/test.csv', index_col='session_id', parse_dates=times)"
   ]
  },
  {
   "cell_type": "code",
   "execution_count": 3,
   "id": "d3c08007",
   "metadata": {},
   "outputs": [],
   "source": [
    "df_train[sites] = df_train[sites].fillna(0).astype('int')\n",
    "df_test[sites] = df_test[sites].fillna(0).astype('int')"
   ]
  },
  {
   "cell_type": "code",
   "execution_count": 4,
   "id": "0d5c20be",
   "metadata": {},
   "outputs": [],
   "source": [
    "# site names dict\n",
    "with open('D:/alice/site_dic.pkl', 'rb') as input_file:\n",
    "    site_dict = pickle.load(input_file)"
   ]
  },
  {
   "cell_type": "code",
   "execution_count": 5,
   "id": "a4c95887",
   "metadata": {},
   "outputs": [],
   "source": [
    "# Inverted dict\n",
    "new_dict = {}\n",
    "for key in site_dict:\n",
    "    new_dict[site_dict[key]] = key"
   ]
  },
  {
   "cell_type": "code",
   "execution_count": 6,
   "id": "bb48648f",
   "metadata": {},
   "outputs": [],
   "source": [
    "df_train[sites].fillna(0).to_csv('train_sessions_text.txt', \n",
    "                                 sep=' ', index=None, header=None)\n",
    "df_test[sites].fillna(0).to_csv('test_sessions_text.txt', \n",
    "                                sep=' ', index=None, header=None)"
   ]
  },
  {
   "cell_type": "code",
   "execution_count": 7,
   "id": "61b700c0",
   "metadata": {},
   "outputs": [],
   "source": [
    "# for i in df_train[sites]:\n",
    "#     df_train[i] = df_train[i].apply(lambda x:new_dict[x] if x!=0 else '0')"
   ]
  },
  {
   "cell_type": "code",
   "execution_count": 8,
   "id": "0d3a44a5",
   "metadata": {},
   "outputs": [],
   "source": [
    "list_sites = []\n",
    "for row in df_train[sites].values:\n",
    "    row_sites = ' '. join([str(x) for x in row if x!=0])\n",
    "    list_sites.append(row_sites)"
   ]
  },
  {
   "cell_type": "code",
   "execution_count": 9,
   "id": "55368a9a",
   "metadata": {},
   "outputs": [],
   "source": [
    "list_sites_names = []\n",
    "for row in df_train[sites].values:\n",
    "    row_sites = ' '.join([new_dict[x] for x in row if x!=0])\n",
    "    list_sites_names.append(row_sites)\n"
   ]
  },
  {
   "cell_type": "code",
   "execution_count": 210,
   "id": "e65b6bb0",
   "metadata": {},
   "outputs": [],
   "source": [
    "cv = CountVectorizer(ngram_range=(1, 3), max_features=60000)"
   ]
  },
  {
   "cell_type": "code",
   "execution_count": 211,
   "id": "15bda66d",
   "metadata": {},
   "outputs": [
    {
     "name": "stdout",
     "output_type": "stream",
     "text": [
      "(253561, 60000) (82797, 60000)\n",
      "Wall time: 30.2 s\n"
     ]
    }
   ],
   "source": [
    "%%time\n",
    "\n",
    "with open('train_sessions_text.txt') as inp_train_file:\n",
    "    X = cv.fit_transform(inp_train_file)\n",
    "with open('test_sessions_text.txt') as inp_test_file:\n",
    "    X_test = cv.transform(inp_test_file)\n",
    "\n",
    "print(X.shape, X_test.shape)"
   ]
  },
  {
   "cell_type": "code",
   "execution_count": 212,
   "id": "ceac3648",
   "metadata": {},
   "outputs": [],
   "source": [
    "def get_auc_lr_valid(X, y, C=1.0, seed=17, ratio = 0.9):\n",
    "    \n",
    "    # Split the data into the training and validation sets\n",
    "    idx = int(round(X.shape[0] * ratio))\n",
    "    \n",
    "    # Classifier training\n",
    "    lr = LogisticRegression(C=C, random_state=seed, solver='lbfgs', max_iter=300).fit(X[:idx, :], y[:idx])\n",
    "    \n",
    "    # Prediction for validation set\n",
    "    y_pred = lr.predict_proba(X[idx:, :])[:, 1]\n",
    "    \n",
    "    # Calculate the quality\n",
    "    score = roc_auc_score(y[idx:], y_pred)\n",
    "    \n",
    "    return score"
   ]
  },
  {
   "cell_type": "code",
   "execution_count": 213,
   "id": "c7b7acfd",
   "metadata": {},
   "outputs": [],
   "source": [
    "y = df_train['target'].values"
   ]
  },
  {
   "cell_type": "code",
   "execution_count": 14,
   "id": "1032135e",
   "metadata": {
    "scrolled": true
   },
   "outputs": [],
   "source": [
    "# %%time\n",
    "# Calculate metric on the validation set. 90% of train data for training. 10% for validation.\n",
    "\n",
    "# print(get_auc_lr_valid(X, y))"
   ]
  },
  {
   "cell_type": "code",
   "execution_count": 201,
   "id": "63f6ffad",
   "metadata": {},
   "outputs": [],
   "source": [
    "time_split = TimeSeriesSplit(n_splits=10)"
   ]
  },
  {
   "cell_type": "code",
   "execution_count": 202,
   "id": "4432a200",
   "metadata": {},
   "outputs": [],
   "source": [
    "logit = LogisticRegression(C=1, random_state=17, solver='liblinear')"
   ]
  },
  {
   "cell_type": "code",
   "execution_count": 17,
   "id": "0fc85f3c",
   "metadata": {},
   "outputs": [
    {
     "name": "stdout",
     "output_type": "stream",
     "text": [
      "Wall time: 27.6 s\n"
     ]
    }
   ],
   "source": [
    "%%time\n",
    "\n",
    "cv_scores = cross_val_score(logit, X, y, cv=time_split,\n",
    "                            scoring='roc_auc', n_jobs=-1)  # hangs with n_jobs > 1, and locally this runs much faster"
   ]
  },
  {
   "cell_type": "code",
   "execution_count": 53,
   "id": "98b0da6c",
   "metadata": {},
   "outputs": [
    {
     "data": {
      "text/plain": [
       "(253561, 60000)"
      ]
     },
     "execution_count": 53,
     "metadata": {},
     "output_type": "execute_result"
    }
   ],
   "source": [
    "X.shape"
   ]
  },
  {
   "cell_type": "code",
   "execution_count": 52,
   "id": "0c753350",
   "metadata": {},
   "outputs": [
    {
     "data": {
      "text/plain": [
       "[((23051,), (23051,)),\n",
       " ((46102,), (23051,)),\n",
       " ((69153,), (23051,)),\n",
       " ((92204,), (23051,)),\n",
       " ((115255,), (23051,)),\n",
       " ((138306,), (23051,)),\n",
       " ((161357,), (23051,)),\n",
       " ((184408,), (23051,)),\n",
       " ((207459,), (23051,)),\n",
       " ((230510,), (23051,))]"
      ]
     },
     "execution_count": 52,
     "metadata": {},
     "output_type": "execute_result"
    }
   ],
   "source": [
    "[(el[0].shape, el[1].shape) for el in time_split.split(X)]\n"
   ]
  },
  {
   "cell_type": "code",
   "execution_count": null,
   "id": "0ca5af27",
   "metadata": {},
   "outputs": [],
   "source": []
  },
  {
   "cell_type": "code",
   "execution_count": 18,
   "id": "09501632",
   "metadata": {},
   "outputs": [
    {
     "data": {
      "text/plain": [
       "0.944228607775516"
      ]
     },
     "execution_count": 18,
     "metadata": {},
     "output_type": "execute_result"
    }
   ],
   "source": [
    "cv_scores.mean()"
   ]
  },
  {
   "cell_type": "code",
   "execution_count": 19,
   "id": "18445b39",
   "metadata": {},
   "outputs": [],
   "source": [
    "# Function for writing predictions to a file\n",
    "def write_to_submission_file(predicted_labels, out_file,\n",
    "                             target='target', index_label=\"session_id\"):\n",
    "    predicted_df = pd.DataFrame(predicted_labels,\n",
    "                                index = range(1, predicted_labels.shape[0] + 1),\n",
    "                                columns=[target])\n",
    "    predicted_df.to_csv(out_file, index_label=index_label)"
   ]
  },
  {
   "cell_type": "code",
   "execution_count": 20,
   "id": "68871f62",
   "metadata": {},
   "outputs": [
    {
     "data": {
      "text/plain": [
       "LogisticRegression(C=1, random_state=17, solver='liblinear')"
      ]
     },
     "execution_count": 20,
     "metadata": {},
     "output_type": "execute_result"
    }
   ],
   "source": [
    "logit.fit(X, y)"
   ]
  },
  {
   "cell_type": "code",
   "execution_count": 21,
   "id": "fd15353a",
   "metadata": {},
   "outputs": [],
   "source": [
    "logit_test_pred = logit.predict_proba(X_test)[:, 1]\n",
    "write_to_submission_file(logit_test_pred, 'subm1.csv') # 0.91288"
   ]
  },
  {
   "cell_type": "code",
   "execution_count": 216,
   "id": "01ef05ca",
   "metadata": {},
   "outputs": [],
   "source": [
    "def time_between(row, first_site=1, last_site=0):    \n",
    "    if last_site == 0:\n",
    "        last_site = row['count_sites']\n",
    "    if first_site > last_site:\n",
    "        first_site, last_site = last_site, first_site\n",
    "        return row['time' + str(last_site)] - row['time' + str(first_site)]\n",
    "    return row['time' + str(last_site)] - row['time' + str(first_site)]\n",
    "\n",
    "def count_row(row):\n",
    "    counter = 0\n",
    "    for i in row:\n",
    "        if i != 0:\n",
    "            counter += 1\n",
    "    return counter\n",
    "\n",
    "def total_time(row, mean=False):\n",
    "    last_site_number = row['count_sites']\n",
    "    if mean == True and last_site_number != 1:      \n",
    "        return (row['time' + str(last_site_number)] - row['time1']) / last_site_number\n",
    "    \n",
    "    \n",
    "    return row['time' + str(last_site_number)] - row['time1']"
   ]
  },
  {
   "cell_type": "code",
   "execution_count": 240,
   "id": "eb2c5ea0",
   "metadata": {},
   "outputs": [],
   "source": [
    "def add_time_features(df, X_sparse):\n",
    "    df['count_sites'] = df[sites].apply(lambda x: count_row(x), axis=1).values\n",
    "    dummied_count_sites = pd.get_dummies(df, columns=['count_sites'], sparse=True)[\n",
    "        ['count_sites_' + str(i) for i in range(1, 10)]]\n",
    "    \n",
    "    \n",
    "    df['session_during_sec'] = df.apply(lambda x: total_time(x).seconds, axis=1) + 0.001\n",
    "    df['mean_time_per_site'] = df.apply(lambda x: total_time(x, mean=True).seconds, axis=1) + 0.001\n",
    "    \n",
    "    \n",
    "    hour = df['time1'].apply(lambda ts: ts.hour)\n",
    "    month = df['time1'].apply(lambda ts: ts.month)\n",
    "    is_january = (month == 1).astype('int')\n",
    "    is_may = (month == 5).astype('int')\n",
    "    morning = ((hour >= 7) & (hour <= 11)).astype('int')\n",
    "    day = ((hour >= 12) & (hour <= 18)).astype('int')\n",
    "    evening = ((hour >= 19) & (hour <= 23)).astype('int')\n",
    "    night = ((hour >= 0) & (hour <= 6)).astype('int')\n",
    "\n",
    "    X = hstack([X_sparse, morning.values.reshape(-1, 1),\n",
    "                day.values.reshape(-1, 1), evening.values.reshape(-1, 1),\n",
    "                night.values.reshape(-1, 1), dummied_count_sites.values,\n",
    "                is_january.values.reshape(-1, 1), is_may.values.reshape(-1, 1),\n",
    "#                 np.log(df['session_during_sec'].values.reshape(-1, 1)),\n",
    "#                np.log(df['mean_time_per_site'].values.reshape(-1, 1))\n",
    "               ])\n",
    "    \n",
    "    return X"
   ]
  },
  {
   "cell_type": "code",
   "execution_count": 218,
   "id": "83112d3d",
   "metadata": {},
   "outputs": [
    {
     "data": {
      "text/plain": [
       "session_id\n",
       "1           0\n",
       "2          26\n",
       "3           7\n",
       "4         270\n",
       "5         246\n",
       "         ... \n",
       "253557     59\n",
       "253558      3\n",
       "253559     87\n",
       "253560      2\n",
       "253561      3\n",
       "Length: 253561, dtype: int64"
      ]
     },
     "execution_count": 218,
     "metadata": {},
     "output_type": "execute_result"
    }
   ],
   "source": [
    "df_train.apply(lambda x: total_time(x).seconds, axis=1)"
   ]
  },
  {
   "cell_type": "code",
   "execution_count": 219,
   "id": "ccb5d504",
   "metadata": {},
   "outputs": [
    {
     "data": {
      "text/plain": [
       "session_id\n",
       "1          0\n",
       "2          2\n",
       "3          0\n",
       "4         27\n",
       "5         24\n",
       "          ..\n",
       "253557     5\n",
       "253558     0\n",
       "253559    17\n",
       "253560     0\n",
       "253561     0\n",
       "Length: 253561, dtype: int64"
      ]
     },
     "execution_count": 219,
     "metadata": {},
     "output_type": "execute_result"
    }
   ],
   "source": [
    "df_train.apply(lambda x: total_time(x, mean=True).seconds, axis=1)"
   ]
  },
  {
   "cell_type": "code",
   "execution_count": 205,
   "id": "5b317461",
   "metadata": {},
   "outputs": [
    {
     "data": {
      "text/plain": [
       "<253561x1 sparse matrix of type '<class 'numpy.int64'>'\n",
       "\twith 2 stored elements in Compressed Sparse Row format>"
      ]
     },
     "execution_count": 205,
     "metadata": {},
     "output_type": "execute_result"
    }
   ],
   "source": [
    "X[:, 59999:]"
   ]
  },
  {
   "cell_type": "code",
   "execution_count": 241,
   "id": "088a6215",
   "metadata": {},
   "outputs": [
    {
     "name": "stdout",
     "output_type": "stream",
     "text": [
      "Wall time: 1min 20s\n"
     ]
    }
   ],
   "source": [
    "%%time\n",
    "X_train_new = add_time_features(df_train.fillna(0), X)\n",
    "X_test_new = add_time_features(df_test.fillna(0), X_test)"
   ]
  },
  {
   "cell_type": "code",
   "execution_count": 242,
   "id": "68e75db8",
   "metadata": {},
   "outputs": [
    {
     "data": {
      "text/plain": [
       "((253561, 60015), (82797, 60015))"
      ]
     },
     "execution_count": 242,
     "metadata": {},
     "output_type": "execute_result"
    }
   ],
   "source": [
    "X_train_new.shape, X_test_new.shape\n"
   ]
  },
  {
   "cell_type": "code",
   "execution_count": 243,
   "id": "39b816d2",
   "metadata": {},
   "outputs": [
    {
     "name": "stdout",
     "output_type": "stream",
     "text": [
      "Wall time: 27.3 s\n"
     ]
    }
   ],
   "source": [
    "%%time\n",
    "cv_scores = cross_val_score(logit, X_train_new, y, cv=time_split, \n",
    "                            scoring='roc_auc', n_jobs=-1) # hangs with n_jobs > 1, and locally this runs much faster"
   ]
  },
  {
   "cell_type": "code",
   "execution_count": 244,
   "id": "f05a684a",
   "metadata": {},
   "outputs": [
    {
     "data": {
      "text/plain": [
       "(array([0.93756605, 0.95362358, 0.96835939, 0.96955161, 0.96539819,\n",
       "        0.98082901, 0.97900392, 0.96912628, 0.97684463, 0.97808857]),\n",
       " 0.9678391252732007)"
      ]
     },
     "execution_count": 244,
     "metadata": {},
     "output_type": "execute_result"
    }
   ],
   "source": [
    "cv_scores, cv_scores.mean()"
   ]
  },
  {
   "cell_type": "code",
   "execution_count": null,
   "id": "f3f12105",
   "metadata": {},
   "outputs": [],
   "source": []
  },
  {
   "cell_type": "code",
   "execution_count": null,
   "id": "838cc5d4",
   "metadata": {},
   "outputs": [],
   "source": []
  },
  {
   "cell_type": "code",
   "execution_count": null,
   "id": "2f9e3551",
   "metadata": {},
   "outputs": [],
   "source": []
  },
  {
   "cell_type": "code",
   "execution_count": 155,
   "id": "4dd338ba",
   "metadata": {},
   "outputs": [
    {
     "data": {
      "text/plain": [
       "LogisticRegression(C=1, random_state=17, solver='liblinear')"
      ]
     },
     "execution_count": 155,
     "metadata": {},
     "output_type": "execute_result"
    }
   ],
   "source": [
    "logit.fit(X_train_new, y)"
   ]
  },
  {
   "cell_type": "code",
   "execution_count": 156,
   "id": "6229876b",
   "metadata": {},
   "outputs": [],
   "source": [
    "logit_test_pred2 = logit.predict_proba(X_test_new)[:, 1]\n",
    "write_to_submission_file(logit_test_pred2, 'subm2.csv') "
   ]
  },
  {
   "cell_type": "code",
   "execution_count": 214,
   "id": "b0a9b6f1",
   "metadata": {},
   "outputs": [
    {
     "data": {
      "text/html": [
       "<div>\n",
       "<style scoped>\n",
       "    .dataframe tbody tr th:only-of-type {\n",
       "        vertical-align: middle;\n",
       "    }\n",
       "\n",
       "    .dataframe tbody tr th {\n",
       "        vertical-align: top;\n",
       "    }\n",
       "\n",
       "    .dataframe thead th {\n",
       "        text-align: right;\n",
       "    }\n",
       "</style>\n",
       "<table border=\"1\" class=\"dataframe\">\n",
       "  <thead>\n",
       "    <tr style=\"text-align: right;\">\n",
       "      <th></th>\n",
       "      <th>site1</th>\n",
       "      <th>time1</th>\n",
       "      <th>site2</th>\n",
       "      <th>time2</th>\n",
       "      <th>site3</th>\n",
       "      <th>time3</th>\n",
       "      <th>site4</th>\n",
       "      <th>time4</th>\n",
       "      <th>site5</th>\n",
       "      <th>time5</th>\n",
       "      <th>...</th>\n",
       "      <th>time7</th>\n",
       "      <th>site8</th>\n",
       "      <th>time8</th>\n",
       "      <th>site9</th>\n",
       "      <th>time9</th>\n",
       "      <th>site10</th>\n",
       "      <th>time10</th>\n",
       "      <th>target</th>\n",
       "      <th>count_sites</th>\n",
       "      <th>session_during_sec</th>\n",
       "    </tr>\n",
       "    <tr>\n",
       "      <th>session_id</th>\n",
       "      <th></th>\n",
       "      <th></th>\n",
       "      <th></th>\n",
       "      <th></th>\n",
       "      <th></th>\n",
       "      <th></th>\n",
       "      <th></th>\n",
       "      <th></th>\n",
       "      <th></th>\n",
       "      <th></th>\n",
       "      <th></th>\n",
       "      <th></th>\n",
       "      <th></th>\n",
       "      <th></th>\n",
       "      <th></th>\n",
       "      <th></th>\n",
       "      <th></th>\n",
       "      <th></th>\n",
       "      <th></th>\n",
       "      <th></th>\n",
       "      <th></th>\n",
       "    </tr>\n",
       "  </thead>\n",
       "  <tbody>\n",
       "    <tr>\n",
       "      <th>1</th>\n",
       "      <td>718</td>\n",
       "      <td>2014-02-20 10:02:45</td>\n",
       "      <td>0</td>\n",
       "      <td>NaT</td>\n",
       "      <td>0</td>\n",
       "      <td>NaT</td>\n",
       "      <td>0</td>\n",
       "      <td>NaT</td>\n",
       "      <td>0</td>\n",
       "      <td>NaT</td>\n",
       "      <td>...</td>\n",
       "      <td>NaT</td>\n",
       "      <td>0</td>\n",
       "      <td>NaT</td>\n",
       "      <td>0</td>\n",
       "      <td>NaT</td>\n",
       "      <td>0</td>\n",
       "      <td>NaT</td>\n",
       "      <td>0</td>\n",
       "      <td>1</td>\n",
       "      <td>0</td>\n",
       "    </tr>\n",
       "    <tr>\n",
       "      <th>2</th>\n",
       "      <td>890</td>\n",
       "      <td>2014-02-22 11:19:50</td>\n",
       "      <td>941</td>\n",
       "      <td>2014-02-22 11:19:50</td>\n",
       "      <td>3847</td>\n",
       "      <td>2014-02-22 11:19:51</td>\n",
       "      <td>941</td>\n",
       "      <td>2014-02-22 11:19:51</td>\n",
       "      <td>942</td>\n",
       "      <td>2014-02-22 11:19:51</td>\n",
       "      <td>...</td>\n",
       "      <td>2014-02-22 11:19:52</td>\n",
       "      <td>3846</td>\n",
       "      <td>2014-02-22 11:19:52</td>\n",
       "      <td>1516</td>\n",
       "      <td>2014-02-22 11:20:15</td>\n",
       "      <td>1518</td>\n",
       "      <td>2014-02-22 11:20:16</td>\n",
       "      <td>0</td>\n",
       "      <td>10</td>\n",
       "      <td>26</td>\n",
       "    </tr>\n",
       "    <tr>\n",
       "      <th>3</th>\n",
       "      <td>14769</td>\n",
       "      <td>2013-12-16 16:40:17</td>\n",
       "      <td>39</td>\n",
       "      <td>2013-12-16 16:40:18</td>\n",
       "      <td>14768</td>\n",
       "      <td>2013-12-16 16:40:19</td>\n",
       "      <td>14769</td>\n",
       "      <td>2013-12-16 16:40:19</td>\n",
       "      <td>37</td>\n",
       "      <td>2013-12-16 16:40:19</td>\n",
       "      <td>...</td>\n",
       "      <td>2013-12-16 16:40:20</td>\n",
       "      <td>14768</td>\n",
       "      <td>2013-12-16 16:40:21</td>\n",
       "      <td>14768</td>\n",
       "      <td>2013-12-16 16:40:22</td>\n",
       "      <td>14768</td>\n",
       "      <td>2013-12-16 16:40:24</td>\n",
       "      <td>0</td>\n",
       "      <td>10</td>\n",
       "      <td>7</td>\n",
       "    </tr>\n",
       "    <tr>\n",
       "      <th>4</th>\n",
       "      <td>782</td>\n",
       "      <td>2014-03-28 10:52:12</td>\n",
       "      <td>782</td>\n",
       "      <td>2014-03-28 10:52:42</td>\n",
       "      <td>782</td>\n",
       "      <td>2014-03-28 10:53:12</td>\n",
       "      <td>782</td>\n",
       "      <td>2014-03-28 10:53:42</td>\n",
       "      <td>782</td>\n",
       "      <td>2014-03-28 10:54:12</td>\n",
       "      <td>...</td>\n",
       "      <td>2014-03-28 10:55:12</td>\n",
       "      <td>782</td>\n",
       "      <td>2014-03-28 10:55:42</td>\n",
       "      <td>782</td>\n",
       "      <td>2014-03-28 10:56:12</td>\n",
       "      <td>782</td>\n",
       "      <td>2014-03-28 10:56:42</td>\n",
       "      <td>0</td>\n",
       "      <td>10</td>\n",
       "      <td>270</td>\n",
       "    </tr>\n",
       "    <tr>\n",
       "      <th>5</th>\n",
       "      <td>22</td>\n",
       "      <td>2014-02-28 10:53:05</td>\n",
       "      <td>177</td>\n",
       "      <td>2014-02-28 10:55:22</td>\n",
       "      <td>175</td>\n",
       "      <td>2014-02-28 10:55:22</td>\n",
       "      <td>178</td>\n",
       "      <td>2014-02-28 10:55:23</td>\n",
       "      <td>177</td>\n",
       "      <td>2014-02-28 10:55:23</td>\n",
       "      <td>...</td>\n",
       "      <td>2014-02-28 10:55:59</td>\n",
       "      <td>177</td>\n",
       "      <td>2014-02-28 10:55:59</td>\n",
       "      <td>177</td>\n",
       "      <td>2014-02-28 10:57:06</td>\n",
       "      <td>178</td>\n",
       "      <td>2014-02-28 10:57:11</td>\n",
       "      <td>0</td>\n",
       "      <td>10</td>\n",
       "      <td>246</td>\n",
       "    </tr>\n",
       "    <tr>\n",
       "      <th>...</th>\n",
       "      <td>...</td>\n",
       "      <td>...</td>\n",
       "      <td>...</td>\n",
       "      <td>...</td>\n",
       "      <td>...</td>\n",
       "      <td>...</td>\n",
       "      <td>...</td>\n",
       "      <td>...</td>\n",
       "      <td>...</td>\n",
       "      <td>...</td>\n",
       "      <td>...</td>\n",
       "      <td>...</td>\n",
       "      <td>...</td>\n",
       "      <td>...</td>\n",
       "      <td>...</td>\n",
       "      <td>...</td>\n",
       "      <td>...</td>\n",
       "      <td>...</td>\n",
       "      <td>...</td>\n",
       "      <td>...</td>\n",
       "      <td>...</td>\n",
       "    </tr>\n",
       "    <tr>\n",
       "      <th>253557</th>\n",
       "      <td>3474</td>\n",
       "      <td>2013-11-25 10:26:54</td>\n",
       "      <td>3474</td>\n",
       "      <td>2013-11-25 10:26:58</td>\n",
       "      <td>141</td>\n",
       "      <td>2013-11-25 10:27:03</td>\n",
       "      <td>2428</td>\n",
       "      <td>2013-11-25 10:27:04</td>\n",
       "      <td>106</td>\n",
       "      <td>2013-11-25 10:27:13</td>\n",
       "      <td>...</td>\n",
       "      <td>2013-11-25 10:27:28</td>\n",
       "      <td>2428</td>\n",
       "      <td>2013-11-25 10:27:40</td>\n",
       "      <td>2428</td>\n",
       "      <td>2013-11-25 10:27:52</td>\n",
       "      <td>148</td>\n",
       "      <td>2013-11-25 10:27:53</td>\n",
       "      <td>0</td>\n",
       "      <td>10</td>\n",
       "      <td>59</td>\n",
       "    </tr>\n",
       "    <tr>\n",
       "      <th>253558</th>\n",
       "      <td>12727</td>\n",
       "      <td>2013-12-03 16:01:15</td>\n",
       "      <td>12727</td>\n",
       "      <td>2013-12-03 16:01:16</td>\n",
       "      <td>2215</td>\n",
       "      <td>2013-12-03 16:01:16</td>\n",
       "      <td>38</td>\n",
       "      <td>2013-12-03 16:01:17</td>\n",
       "      <td>2215</td>\n",
       "      <td>2013-12-03 16:01:17</td>\n",
       "      <td>...</td>\n",
       "      <td>2013-12-03 16:01:18</td>\n",
       "      <td>2215</td>\n",
       "      <td>2013-12-03 16:01:18</td>\n",
       "      <td>23</td>\n",
       "      <td>2013-12-03 16:01:18</td>\n",
       "      <td>21</td>\n",
       "      <td>2013-12-03 16:01:18</td>\n",
       "      <td>0</td>\n",
       "      <td>10</td>\n",
       "      <td>3</td>\n",
       "    </tr>\n",
       "    <tr>\n",
       "      <th>253559</th>\n",
       "      <td>2661</td>\n",
       "      <td>2013-12-09 14:05:03</td>\n",
       "      <td>15004</td>\n",
       "      <td>2013-12-09 14:05:10</td>\n",
       "      <td>5562</td>\n",
       "      <td>2013-12-09 14:05:10</td>\n",
       "      <td>5562</td>\n",
       "      <td>2013-12-09 14:06:29</td>\n",
       "      <td>5562</td>\n",
       "      <td>2013-12-09 14:06:30</td>\n",
       "      <td>...</td>\n",
       "      <td>NaT</td>\n",
       "      <td>0</td>\n",
       "      <td>NaT</td>\n",
       "      <td>0</td>\n",
       "      <td>NaT</td>\n",
       "      <td>0</td>\n",
       "      <td>NaT</td>\n",
       "      <td>0</td>\n",
       "      <td>5</td>\n",
       "      <td>87</td>\n",
       "    </tr>\n",
       "    <tr>\n",
       "      <th>253560</th>\n",
       "      <td>812</td>\n",
       "      <td>2013-12-19 15:20:22</td>\n",
       "      <td>676</td>\n",
       "      <td>2013-12-19 15:20:22</td>\n",
       "      <td>814</td>\n",
       "      <td>2013-12-19 15:20:22</td>\n",
       "      <td>22</td>\n",
       "      <td>2013-12-19 15:20:22</td>\n",
       "      <td>39</td>\n",
       "      <td>2013-12-19 15:20:22</td>\n",
       "      <td>...</td>\n",
       "      <td>2013-12-19 15:20:23</td>\n",
       "      <td>570</td>\n",
       "      <td>2013-12-19 15:20:23</td>\n",
       "      <td>22</td>\n",
       "      <td>2013-12-19 15:20:24</td>\n",
       "      <td>570</td>\n",
       "      <td>2013-12-19 15:20:24</td>\n",
       "      <td>0</td>\n",
       "      <td>10</td>\n",
       "      <td>2</td>\n",
       "    </tr>\n",
       "    <tr>\n",
       "      <th>253561</th>\n",
       "      <td>34942</td>\n",
       "      <td>2014-04-25 09:56:52</td>\n",
       "      <td>1429</td>\n",
       "      <td>2014-04-25 09:56:53</td>\n",
       "      <td>34942</td>\n",
       "      <td>2014-04-25 09:56:53</td>\n",
       "      <td>29</td>\n",
       "      <td>2014-04-25 09:56:54</td>\n",
       "      <td>30</td>\n",
       "      <td>2014-04-25 09:56:54</td>\n",
       "      <td>...</td>\n",
       "      <td>2014-04-25 09:56:54</td>\n",
       "      <td>30</td>\n",
       "      <td>2014-04-25 09:56:55</td>\n",
       "      <td>35</td>\n",
       "      <td>2014-04-25 09:56:55</td>\n",
       "      <td>33</td>\n",
       "      <td>2014-04-25 09:56:55</td>\n",
       "      <td>0</td>\n",
       "      <td>10</td>\n",
       "      <td>3</td>\n",
       "    </tr>\n",
       "  </tbody>\n",
       "</table>\n",
       "<p>253561 rows × 23 columns</p>\n",
       "</div>"
      ],
      "text/plain": [
       "            site1               time1  site2               time2  site3  \\\n",
       "session_id                                                                \n",
       "1             718 2014-02-20 10:02:45      0                 NaT      0   \n",
       "2             890 2014-02-22 11:19:50    941 2014-02-22 11:19:50   3847   \n",
       "3           14769 2013-12-16 16:40:17     39 2013-12-16 16:40:18  14768   \n",
       "4             782 2014-03-28 10:52:12    782 2014-03-28 10:52:42    782   \n",
       "5              22 2014-02-28 10:53:05    177 2014-02-28 10:55:22    175   \n",
       "...           ...                 ...    ...                 ...    ...   \n",
       "253557       3474 2013-11-25 10:26:54   3474 2013-11-25 10:26:58    141   \n",
       "253558      12727 2013-12-03 16:01:15  12727 2013-12-03 16:01:16   2215   \n",
       "253559       2661 2013-12-09 14:05:03  15004 2013-12-09 14:05:10   5562   \n",
       "253560        812 2013-12-19 15:20:22    676 2013-12-19 15:20:22    814   \n",
       "253561      34942 2014-04-25 09:56:52   1429 2014-04-25 09:56:53  34942   \n",
       "\n",
       "                         time3  site4               time4  site5  \\\n",
       "session_id                                                         \n",
       "1                          NaT      0                 NaT      0   \n",
       "2          2014-02-22 11:19:51    941 2014-02-22 11:19:51    942   \n",
       "3          2013-12-16 16:40:19  14769 2013-12-16 16:40:19     37   \n",
       "4          2014-03-28 10:53:12    782 2014-03-28 10:53:42    782   \n",
       "5          2014-02-28 10:55:22    178 2014-02-28 10:55:23    177   \n",
       "...                        ...    ...                 ...    ...   \n",
       "253557     2013-11-25 10:27:03   2428 2013-11-25 10:27:04    106   \n",
       "253558     2013-12-03 16:01:16     38 2013-12-03 16:01:17   2215   \n",
       "253559     2013-12-09 14:05:10   5562 2013-12-09 14:06:29   5562   \n",
       "253560     2013-12-19 15:20:22     22 2013-12-19 15:20:22     39   \n",
       "253561     2014-04-25 09:56:53     29 2014-04-25 09:56:54     30   \n",
       "\n",
       "                         time5  ...               time7  site8  \\\n",
       "session_id                      ...                              \n",
       "1                          NaT  ...                 NaT      0   \n",
       "2          2014-02-22 11:19:51  ... 2014-02-22 11:19:52   3846   \n",
       "3          2013-12-16 16:40:19  ... 2013-12-16 16:40:20  14768   \n",
       "4          2014-03-28 10:54:12  ... 2014-03-28 10:55:12    782   \n",
       "5          2014-02-28 10:55:23  ... 2014-02-28 10:55:59    177   \n",
       "...                        ...  ...                 ...    ...   \n",
       "253557     2013-11-25 10:27:13  ... 2013-11-25 10:27:28   2428   \n",
       "253558     2013-12-03 16:01:17  ... 2013-12-03 16:01:18   2215   \n",
       "253559     2013-12-09 14:06:30  ...                 NaT      0   \n",
       "253560     2013-12-19 15:20:22  ... 2013-12-19 15:20:23    570   \n",
       "253561     2014-04-25 09:56:54  ... 2014-04-25 09:56:54     30   \n",
       "\n",
       "                         time8  site9               time9 site10  \\\n",
       "session_id                                                         \n",
       "1                          NaT      0                 NaT      0   \n",
       "2          2014-02-22 11:19:52   1516 2014-02-22 11:20:15   1518   \n",
       "3          2013-12-16 16:40:21  14768 2013-12-16 16:40:22  14768   \n",
       "4          2014-03-28 10:55:42    782 2014-03-28 10:56:12    782   \n",
       "5          2014-02-28 10:55:59    177 2014-02-28 10:57:06    178   \n",
       "...                        ...    ...                 ...    ...   \n",
       "253557     2013-11-25 10:27:40   2428 2013-11-25 10:27:52    148   \n",
       "253558     2013-12-03 16:01:18     23 2013-12-03 16:01:18     21   \n",
       "253559                     NaT      0                 NaT      0   \n",
       "253560     2013-12-19 15:20:23     22 2013-12-19 15:20:24    570   \n",
       "253561     2014-04-25 09:56:55     35 2014-04-25 09:56:55     33   \n",
       "\n",
       "                        time10 target  count_sites session_during_sec  \n",
       "session_id                                                             \n",
       "1                          NaT      0            1                  0  \n",
       "2          2014-02-22 11:20:16      0           10                 26  \n",
       "3          2013-12-16 16:40:24      0           10                  7  \n",
       "4          2014-03-28 10:56:42      0           10                270  \n",
       "5          2014-02-28 10:57:11      0           10                246  \n",
       "...                        ...    ...          ...                ...  \n",
       "253557     2013-11-25 10:27:53      0           10                 59  \n",
       "253558     2013-12-03 16:01:18      0           10                  3  \n",
       "253559                     NaT      0            5                 87  \n",
       "253560     2013-12-19 15:20:24      0           10                  2  \n",
       "253561     2014-04-25 09:56:55      0           10                  3  \n",
       "\n",
       "[253561 rows x 23 columns]"
      ]
     },
     "execution_count": 214,
     "metadata": {},
     "output_type": "execute_result"
    }
   ],
   "source": [
    "df_train"
   ]
  },
  {
   "cell_type": "code",
   "execution_count": 157,
   "id": "b21d80cd",
   "metadata": {},
   "outputs": [],
   "source": [
    "c_values = np.logspace(-2, 2, 10)\n",
    "\n",
    "logit_grid_searcher = GridSearchCV(estimator=logit, param_grid={'C': c_values},\n",
    "                                  scoring='roc_auc', n_jobs=-1, cv=time_split, verbose=1)"
   ]
  },
  {
   "cell_type": "code",
   "execution_count": 158,
   "id": "4c5b23e5",
   "metadata": {},
   "outputs": [
    {
     "name": "stdout",
     "output_type": "stream",
     "text": [
      "Fitting 10 folds for each of 10 candidates, totalling 100 fits\n",
      "Wall time: 4min 45s\n"
     ]
    },
    {
     "data": {
      "text/plain": [
       "GridSearchCV(cv=TimeSeriesSplit(gap=0, max_train_size=None, n_splits=10, test_size=None),\n",
       "             estimator=LogisticRegression(C=1, random_state=17,\n",
       "                                          solver='liblinear'),\n",
       "             n_jobs=-1,\n",
       "             param_grid={'C': array([1.00000000e-02, 2.78255940e-02, 7.74263683e-02, 2.15443469e-01,\n",
       "       5.99484250e-01, 1.66810054e+00, 4.64158883e+00, 1.29154967e+01,\n",
       "       3.59381366e+01, 1.00000000e+02])},\n",
       "             scoring='roc_auc', verbose=1)"
      ]
     },
     "execution_count": 158,
     "metadata": {},
     "output_type": "execute_result"
    }
   ],
   "source": [
    "%%time\n",
    "logit_grid_searcher.fit(X_train_new, y)"
   ]
  },
  {
   "cell_type": "code",
   "execution_count": 159,
   "id": "2eb6f288",
   "metadata": {},
   "outputs": [
    {
     "data": {
      "text/plain": [
       "(0.9663522269135161, {'C': 0.5994842503189409})"
      ]
     },
     "execution_count": 159,
     "metadata": {},
     "output_type": "execute_result"
    }
   ],
   "source": [
    "logit_grid_searcher.best_score_, logit_grid_searcher.best_params_"
   ]
  },
  {
   "cell_type": "code",
   "execution_count": null,
   "id": "21bfe739",
   "metadata": {},
   "outputs": [],
   "source": [
    "#0.96"
   ]
  },
  {
   "cell_type": "code",
   "execution_count": 41,
   "id": "7d44fa76",
   "metadata": {},
   "outputs": [],
   "source": [
    "logit_test_pred3 = logit_grid_searcher.predict_proba(X_test_new)[:, 1]\n",
    "write_to_submission_file(logit_test_pred3, 'subm3.csv') # 0.94242"
   ]
  },
  {
   "cell_type": "code",
   "execution_count": 55,
   "id": "4d8ff161",
   "metadata": {},
   "outputs": [],
   "source": []
  },
  {
   "cell_type": "code",
   "execution_count": 58,
   "id": "1ee594de",
   "metadata": {},
   "outputs": [],
   "source": []
  },
  {
   "cell_type": "code",
   "execution_count": 56,
   "id": "c567fc7c",
   "metadata": {},
   "outputs": [],
   "source": []
  },
  {
   "cell_type": "code",
   "execution_count": 61,
   "id": "0e9b09db",
   "metadata": {},
   "outputs": [],
   "source": []
  },
  {
   "cell_type": "code",
   "execution_count": 63,
   "id": "e1d79c32",
   "metadata": {},
   "outputs": [],
   "source": []
  },
  {
   "cell_type": "code",
   "execution_count": null,
   "id": "b7df1204",
   "metadata": {},
   "outputs": [],
   "source": []
  }
 ],
 "metadata": {
  "kernelspec": {
   "display_name": "Python 3",
   "language": "python",
   "name": "python3"
  },
  "language_info": {
   "codemirror_mode": {
    "name": "ipython",
    "version": 3
   },
   "file_extension": ".py",
   "mimetype": "text/x-python",
   "name": "python",
   "nbconvert_exporter": "python",
   "pygments_lexer": "ipython3",
   "version": "3.8.8"
  }
 },
 "nbformat": 4,
 "nbformat_minor": 5
}
